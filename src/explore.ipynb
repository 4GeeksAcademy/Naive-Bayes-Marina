{
    "cells": [
        {
            "cell_type": "markdown",
            "metadata": {},
            "source": [
                "# Explore here"
            ]
        },
        {
            "cell_type": "code",
            "execution_count": 2,
            "metadata": {},
            "outputs": [],
            "source": [
                "import pandas as pd\n",
                "import matplotlib.pyplot as plt\n",
                "from sklearn.preprocessing import StandardScaler\n",
                "from sklearn.ensemble import RandomForestClassifier\n",
                "from sklearn.model_selection import train_test_split\n",
                "from sklearn.metrics import *\n",
                "from imblearn.metrics import specificity_score\n",
                "import requests\n",
                "from sklearn.preprocessing import MinMaxScaler\n",
                "from pickle import dump\n",
                "from sklearn.model_selection import train_test_split\n",
                "from sklearn.feature_extraction.text import CountVectorizer\n",
                "from sklearn.naive_bayes import BernoulliNB, GaussianNB, MultinomialNB \n",
                "from sklearn.metrics import classification_report\n",
                "import re\n",
                "from lazypredict.Supervised import LazyClassifier\n",
                "from sklearn.feature_extraction.text import TfidfVectorizer"
            ]
        },
        {
            "cell_type": "code",
            "execution_count": 3,
            "metadata": {},
            "outputs": [],
            "source": [
                "url = \"https://raw.githubusercontent.com/4GeeksAcademy/naive-bayes-project-tutorial/main/playstore_reviews.csv\"\n",
                "response = requests.get(url).content.decode('utf-8')\n",
                "\n",
                "file_name = '../data/raw/playstore_reviews.csv'\n",
                "\n",
                "with open(file_name, 'w') as temp_file:\n",
                "    temp_file.writelines(response)"
            ]
        },
        {
            "cell_type": "code",
            "execution_count": 4,
            "metadata": {},
            "outputs": [
                {
                    "data": {
                        "text/html": [
                            "<div>\n",
                            "<style scoped>\n",
                            "    .dataframe tbody tr th:only-of-type {\n",
                            "        vertical-align: middle;\n",
                            "    }\n",
                            "\n",
                            "    .dataframe tbody tr th {\n",
                            "        vertical-align: top;\n",
                            "    }\n",
                            "\n",
                            "    .dataframe thead th {\n",
                            "        text-align: right;\n",
                            "    }\n",
                            "</style>\n",
                            "<table border=\"1\" class=\"dataframe\">\n",
                            "  <thead>\n",
                            "    <tr style=\"text-align: right;\">\n",
                            "      <th></th>\n",
                            "      <th>package_name</th>\n",
                            "      <th>review</th>\n",
                            "      <th>polarity</th>\n",
                            "    </tr>\n",
                            "  </thead>\n",
                            "  <tbody>\n",
                            "    <tr>\n",
                            "      <th>0</th>\n",
                            "      <td>com.facebook.katana</td>\n",
                            "      <td>privacy at least put some option appear offli...</td>\n",
                            "      <td>0</td>\n",
                            "    </tr>\n",
                            "    <tr>\n",
                            "      <th>1</th>\n",
                            "      <td>com.facebook.katana</td>\n",
                            "      <td>messenger issues ever since the last update, ...</td>\n",
                            "      <td>0</td>\n",
                            "    </tr>\n",
                            "    <tr>\n",
                            "      <th>2</th>\n",
                            "      <td>com.facebook.katana</td>\n",
                            "      <td>profile any time my wife or anybody has more ...</td>\n",
                            "      <td>0</td>\n",
                            "    </tr>\n",
                            "    <tr>\n",
                            "      <th>3</th>\n",
                            "      <td>com.facebook.katana</td>\n",
                            "      <td>the new features suck for those of us who don...</td>\n",
                            "      <td>0</td>\n",
                            "    </tr>\n",
                            "    <tr>\n",
                            "      <th>4</th>\n",
                            "      <td>com.facebook.katana</td>\n",
                            "      <td>forced reload on uploading pic on replying co...</td>\n",
                            "      <td>0</td>\n",
                            "    </tr>\n",
                            "  </tbody>\n",
                            "</table>\n",
                            "</div>"
                        ],
                        "text/plain": [
                            "          package_name                                             review  \\\n",
                            "0  com.facebook.katana   privacy at least put some option appear offli...   \n",
                            "1  com.facebook.katana   messenger issues ever since the last update, ...   \n",
                            "2  com.facebook.katana   profile any time my wife or anybody has more ...   \n",
                            "3  com.facebook.katana   the new features suck for those of us who don...   \n",
                            "4  com.facebook.katana   forced reload on uploading pic on replying co...   \n",
                            "\n",
                            "   polarity  \n",
                            "0         0  \n",
                            "1         0  \n",
                            "2         0  \n",
                            "3         0  \n",
                            "4         0  "
                        ]
                    },
                    "execution_count": 4,
                    "metadata": {},
                    "output_type": "execute_result"
                }
            ],
            "source": [
                "df = pd.read_csv(file_name)\n",
                "pd.set_option('display.max_columns', None)\n",
                "df.head()"
            ]
        },
        {
            "cell_type": "code",
            "execution_count": 5,
            "metadata": {},
            "outputs": [
                {
                    "name": "stdout",
                    "output_type": "stream",
                    "text": [
                        "package_name   0.00\n",
                        "review         0.00\n",
                        "polarity       0.00\n",
                        "dtype: float64\n"
                    ]
                }
            ],
            "source": [
                "#Buscamos valores nulos, no hay.\n",
                "print(df.isnull().mean()*100)"
            ]
        },
        {
            "cell_type": "code",
            "execution_count": 6,
            "metadata": {},
            "outputs": [],
            "source": [
                "#Eliminamos la columna package_name tal y como dicen las instrucciones del ejercicio al no ser relevante para este estudio\n",
                "\n",
                "df.drop(['package_name'], axis=1, inplace=True)"
            ]
        },
        {
            "cell_type": "code",
            "execution_count": 7,
            "metadata": {},
            "outputs": [
                {
                    "data": {
                        "text/html": [
                            "<div>\n",
                            "<style scoped>\n",
                            "    .dataframe tbody tr th:only-of-type {\n",
                            "        vertical-align: middle;\n",
                            "    }\n",
                            "\n",
                            "    .dataframe tbody tr th {\n",
                            "        vertical-align: top;\n",
                            "    }\n",
                            "\n",
                            "    .dataframe thead th {\n",
                            "        text-align: right;\n",
                            "    }\n",
                            "</style>\n",
                            "<table border=\"1\" class=\"dataframe\">\n",
                            "  <thead>\n",
                            "    <tr style=\"text-align: right;\">\n",
                            "      <th></th>\n",
                            "      <th>review</th>\n",
                            "      <th>polarity</th>\n",
                            "    </tr>\n",
                            "  </thead>\n",
                            "  <tbody>\n",
                            "    <tr>\n",
                            "      <th>0</th>\n",
                            "      <td>privacy at least put some option appear offli...</td>\n",
                            "      <td>0</td>\n",
                            "    </tr>\n",
                            "    <tr>\n",
                            "      <th>1</th>\n",
                            "      <td>messenger issues ever since the last update, ...</td>\n",
                            "      <td>0</td>\n",
                            "    </tr>\n",
                            "    <tr>\n",
                            "      <th>2</th>\n",
                            "      <td>profile any time my wife or anybody has more ...</td>\n",
                            "      <td>0</td>\n",
                            "    </tr>\n",
                            "    <tr>\n",
                            "      <th>3</th>\n",
                            "      <td>the new features suck for those of us who don...</td>\n",
                            "      <td>0</td>\n",
                            "    </tr>\n",
                            "    <tr>\n",
                            "      <th>4</th>\n",
                            "      <td>forced reload on uploading pic on replying co...</td>\n",
                            "      <td>0</td>\n",
                            "    </tr>\n",
                            "  </tbody>\n",
                            "</table>\n",
                            "</div>"
                        ],
                        "text/plain": [
                            "                                              review  polarity\n",
                            "0   privacy at least put some option appear offli...         0\n",
                            "1   messenger issues ever since the last update, ...         0\n",
                            "2   profile any time my wife or anybody has more ...         0\n",
                            "3   the new features suck for those of us who don...         0\n",
                            "4   forced reload on uploading pic on replying co...         0"
                        ]
                    },
                    "execution_count": 7,
                    "metadata": {},
                    "output_type": "execute_result"
                }
            ],
            "source": [
                "df.head()"
            ]
        },
        {
            "cell_type": "code",
            "execution_count": 8,
            "metadata": {},
            "outputs": [
                {
                    "name": "stdout",
                    "output_type": "stream",
                    "text": [
                        "0.3445566778900112\n",
                        "0.6554433221099888\n"
                    ]
                }
            ],
            "source": [
                "#Calculamos los porcentajes de reseñas positivas y negativas\n",
                "\n",
                "pos_reviews = df['polarity'][df['polarity'] == 1].count()/len(df)\n",
                "neg_reviews = df['polarity'][df['polarity'] == 0].count()/len(df)\n",
                "\n",
                "print(pos_reviews)\n",
                "print(neg_reviews)"
            ]
        },
        {
            "cell_type": "code",
            "execution_count": 9,
            "metadata": {},
            "outputs": [],
            "source": [
                "# Eliminamos los espacios del principio y del final y ponemos todos los caracteres en minúsculas\n",
                "\n",
                "df[\"review\"] = df[\"review\"].str.strip().str.lower()"
            ]
        },
        {
            "cell_type": "code",
            "execution_count": 10,
            "metadata": {},
            "outputs": [],
            "source": [
                "# Eliminamos los signos de puntuación para dejar solo texto\n",
                "df[\"review\"] = list(map(lambda x: re.sub(r'[^a-z\\s]', '', x) , df[\"review\"]))\n"
            ]
        },
        {
            "cell_type": "code",
            "execution_count": 11,
            "metadata": {},
            "outputs": [
                {
                    "data": {
                        "text/html": [
                            "<div>\n",
                            "<style scoped>\n",
                            "    .dataframe tbody tr th:only-of-type {\n",
                            "        vertical-align: middle;\n",
                            "    }\n",
                            "\n",
                            "    .dataframe tbody tr th {\n",
                            "        vertical-align: top;\n",
                            "    }\n",
                            "\n",
                            "    .dataframe thead th {\n",
                            "        text-align: right;\n",
                            "    }\n",
                            "</style>\n",
                            "<table border=\"1\" class=\"dataframe\">\n",
                            "  <thead>\n",
                            "    <tr style=\"text-align: right;\">\n",
                            "      <th></th>\n",
                            "      <th>review</th>\n",
                            "      <th>polarity</th>\n",
                            "    </tr>\n",
                            "  </thead>\n",
                            "  <tbody>\n",
                            "    <tr>\n",
                            "      <th>0</th>\n",
                            "      <td>privacy at least put some option appear offlin...</td>\n",
                            "      <td>0</td>\n",
                            "    </tr>\n",
                            "    <tr>\n",
                            "      <th>1</th>\n",
                            "      <td>messenger issues ever since the last update in...</td>\n",
                            "      <td>0</td>\n",
                            "    </tr>\n",
                            "    <tr>\n",
                            "      <th>2</th>\n",
                            "      <td>profile any time my wife or anybody has more t...</td>\n",
                            "      <td>0</td>\n",
                            "    </tr>\n",
                            "    <tr>\n",
                            "      <th>3</th>\n",
                            "      <td>the new features suck for those of us who dont...</td>\n",
                            "      <td>0</td>\n",
                            "    </tr>\n",
                            "    <tr>\n",
                            "      <th>4</th>\n",
                            "      <td>forced reload on uploading pic on replying com...</td>\n",
                            "      <td>0</td>\n",
                            "    </tr>\n",
                            "  </tbody>\n",
                            "</table>\n",
                            "</div>"
                        ],
                        "text/plain": [
                            "                                              review  polarity\n",
                            "0  privacy at least put some option appear offlin...         0\n",
                            "1  messenger issues ever since the last update in...         0\n",
                            "2  profile any time my wife or anybody has more t...         0\n",
                            "3  the new features suck for those of us who dont...         0\n",
                            "4  forced reload on uploading pic on replying com...         0"
                        ]
                    },
                    "execution_count": 11,
                    "metadata": {},
                    "output_type": "execute_result"
                }
            ],
            "source": [
                "df.head()"
            ]
        },
        {
            "cell_type": "code",
            "execution_count": 12,
            "metadata": {},
            "outputs": [],
            "source": [
                "X = list(df[\"review\"])\n",
                "y = list(df[\"polarity\"])\n",
                "\n",
                "X_train, X_test, y_train, y_test = train_test_split(X, y, test_size=0.2, random_state=42)"
            ]
        },
        {
            "cell_type": "code",
            "execution_count": 13,
            "metadata": {},
            "outputs": [],
            "source": [
                "vectorizer = CountVectorizer()\n",
                "X_train_vec = vectorizer.fit_transform(X_train)\n",
                "X_test_vec = vectorizer.transform(X_test)"
            ]
        },
        {
            "cell_type": "code",
            "execution_count": 14,
            "metadata": {},
            "outputs": [
                {
                    "data": {
                        "text/plain": [
                            "<Compressed Sparse Row sparse matrix of dtype 'int64'\n",
                            "\twith 5205 stored elements and shape (179, 3630)>"
                        ]
                    },
                    "execution_count": 14,
                    "metadata": {},
                    "output_type": "execute_result"
                }
            ],
            "source": [
                "X_test_vec"
            ]
        },
        {
            "cell_type": "code",
            "execution_count": 15,
            "metadata": {},
            "outputs": [
                {
                    "data": {
                        "text/plain": [
                            "array(['aa', 'aafnaii', 'aakhirat', ..., 'zespole', 'zoom', 'zooming'],\n",
                            "      shape=(3630,), dtype=object)"
                        ]
                    },
                    "execution_count": 15,
                    "metadata": {},
                    "output_type": "execute_result"
                }
            ],
            "source": [
                "vectorizer.get_feature_names_out()"
            ]
        },
        {
            "cell_type": "code",
            "execution_count": 16,
            "metadata": {},
            "outputs": [
                {
                    "name": "stdout",
                    "output_type": "stream",
                    "text": [
                        "Email de prueba: whatsapp i use this app now that blackberry messenger has basically gone away my friends  family live all over the world this really helps keep us in touch\n",
                        "\n",
                        "Palabras del conjunto de entrenamiento que también aparecen en el email de test junto con su aparición:\n",
                        "\n",
                        "Palabra: \"all\"\n",
                        "--> Aparece 1 veces en el email.\n",
                        "Palabra: \"app\"\n",
                        "--> Aparece 1 veces en el email.\n",
                        "Palabra: \"away\"\n",
                        "--> Aparece 1 veces en el email.\n",
                        "Palabra: \"basically\"\n",
                        "--> Aparece 1 veces en el email.\n",
                        "Palabra: \"family\"\n",
                        "--> Aparece 1 veces en el email.\n",
                        "Palabra: \"friends\"\n",
                        "--> Aparece 1 veces en el email.\n",
                        "Palabra: \"gone\"\n",
                        "--> Aparece 1 veces en el email.\n",
                        "Palabra: \"has\"\n",
                        "--> Aparece 1 veces en el email.\n",
                        "Palabra: \"helps\"\n",
                        "--> Aparece 1 veces en el email.\n",
                        "Palabra: \"in\"\n",
                        "--> Aparece 1 veces en el email.\n",
                        "Palabra: \"keep\"\n",
                        "--> Aparece 1 veces en el email.\n",
                        "Palabra: \"live\"\n",
                        "--> Aparece 1 veces en el email.\n",
                        "Palabra: \"messenger\"\n",
                        "--> Aparece 1 veces en el email.\n",
                        "Palabra: \"my\"\n",
                        "--> Aparece 1 veces en el email.\n",
                        "Palabra: \"now\"\n",
                        "--> Aparece 1 veces en el email.\n",
                        "Palabra: \"over\"\n",
                        "--> Aparece 1 veces en el email.\n",
                        "Palabra: \"really\"\n",
                        "--> Aparece 1 veces en el email.\n",
                        "Palabra: \"that\"\n",
                        "--> Aparece 1 veces en el email.\n",
                        "Palabra: \"the\"\n",
                        "--> Aparece 1 veces en el email.\n",
                        "Palabra: \"this\"\n",
                        "--> Aparece 2 veces en el email.\n",
                        "Palabra: \"touch\"\n",
                        "--> Aparece 1 veces en el email.\n",
                        "Palabra: \"us\"\n",
                        "--> Aparece 1 veces en el email.\n",
                        "Palabra: \"use\"\n",
                        "--> Aparece 1 veces en el email.\n",
                        "Palabra: \"whatsapp\"\n",
                        "--> Aparece 1 veces en el email.\n",
                        "Palabra: \"world\"\n",
                        "--> Aparece 1 veces en el email.\n"
                    ]
                }
            ],
            "source": [
                "# Usamos el ejemplo de la clase para comprobar que la cosa pinta bien\n",
                "\n",
                "print(f'Email de prueba: {X_test[1]}')\n",
                "print('\\nPalabras del conjunto de entrenamiento que también aparecen en el email de test junto con su aparición:\\n')\n",
                "for i, cont in enumerate(X_test_vec.toarray()[1]):\n",
                "  if cont!=0:\n",
                "    print(f'Palabra: \"{vectorizer.get_feature_names_out()[i]}\"')\n",
                "    print(f'--> Aparece {cont} veces en el email.')"
            ]
        },
        {
            "cell_type": "code",
            "execution_count": 17,
            "metadata": {},
            "outputs": [
                {
                    "name": "stdout",
                    "output_type": "stream",
                    "text": [
                        "              precision    recall  f1-score   support\n",
                        "\n",
                        "           0       0.84      0.94      0.88       126\n",
                        "           1       0.79      0.57      0.66        53\n",
                        "\n",
                        "    accuracy                           0.83       179\n",
                        "   macro avg       0.81      0.75      0.77       179\n",
                        "weighted avg       0.82      0.83      0.82       179\n",
                        "\n"
                    ]
                }
            ],
            "source": [
                "# Inicializar y entrenar el clasificador Naive Bayes Multinomial\n",
                "clf1 = BernoulliNB().fit(X_train_vec, y_train)\n",
                "\n",
                "# Realizar predicciones en el conjunto de prueba\n",
                "y_pred1 = clf1.predict(X_test_vec)\n",
                "\n",
                "# Evaluar el rendimiento del modelo\n",
                "print(classification_report(y_test, y_pred1))\n",
                "\n"
            ]
        },
        {
            "cell_type": "code",
            "execution_count": 18,
            "metadata": {},
            "outputs": [
                {
                    "name": "stdout",
                    "output_type": "stream",
                    "text": [
                        "              precision    recall  f1-score   support\n",
                        "\n",
                        "           0       0.84      0.94      0.89       126\n",
                        "           1       0.82      0.58      0.68        53\n",
                        "\n",
                        "    accuracy                           0.84       179\n",
                        "   macro avg       0.83      0.76      0.79       179\n",
                        "weighted avg       0.84      0.84      0.83       179\n",
                        "\n"
                    ]
                }
            ],
            "source": [
                "# Inicializar y entrenar el clasificador Naive Bayes Multinomial\n",
                "clf2 = MultinomialNB().fit(X_train_vec, y_train)\n",
                "\n",
                "# Realizar predicciones en el conjunto de prueba\n",
                "y_pred2 = clf2.predict(X_test_vec)\n",
                "\n",
                "# Evaluar el rendimiento del modelo\n",
                "print(classification_report(y_test, y_pred2))\n",
                "\n",
                "\n"
            ]
        },
        {
            "cell_type": "markdown",
            "metadata": {},
            "source": [
                "Aunque elegí el algoritmo de BernoulliNB, al tratarse de datos binarios, el modelo mejora algo con el algoritmo MultinomialNB.\n",
                "El algoritmo de GaussianNB no es viable al no ser datos continuos el resultado."
            ]
        },
        {
            "cell_type": "code",
            "execution_count": 19,
            "metadata": {},
            "outputs": [],
            "source": [
                "model = RandomForestClassifier(n_estimators=50,max_depth=10,min_samples_leaf=20,max_features=X_train_vec.shape[1]//2,random_state = 42)\n",
                "model.fit(X_train_vec, y_train)\n",
                "\n",
                "y_pred3 = model.predict(X_test_vec)\n",
                "\n"
            ]
        },
        {
            "cell_type": "code",
            "execution_count": 20,
            "metadata": {},
            "outputs": [
                {
                    "name": "stdout",
                    "output_type": "stream",
                    "text": [
                        "              precision    recall  f1-score   support\n",
                        "\n",
                        "           0       0.79      0.85      0.82       126\n",
                        "           1       0.57      0.47      0.52        53\n",
                        "\n",
                        "    accuracy                           0.74       179\n",
                        "   macro avg       0.68      0.66      0.67       179\n",
                        "weighted avg       0.73      0.74      0.73       179\n",
                        "\n"
                    ]
                }
            ],
            "source": [
                "print(classification_report(y_test, y_pred3))"
            ]
        },
        {
            "cell_type": "markdown",
            "metadata": {},
            "source": [
                "Finalmente MultinomialNB resulta ser el algoritmo con mejóres métricas y, por tanto, el elegido."
            ]
        }
    ],
    "metadata": {
        "kernelspec": {
            "display_name": "Python 3",
            "language": "python",
            "name": "python3"
        },
        "language_info": {
            "codemirror_mode": {
                "name": "ipython",
                "version": 3
            },
            "file_extension": ".py",
            "mimetype": "text/x-python",
            "name": "python",
            "nbconvert_exporter": "python",
            "pygments_lexer": "ipython3",
            "version": "3.10.12"
        },
        "orig_nbformat": 4
    },
    "nbformat": 4,
    "nbformat_minor": 2
}
